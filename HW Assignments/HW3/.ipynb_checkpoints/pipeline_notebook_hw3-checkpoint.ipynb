{
 "cells": [
  {
   "cell_type": "markdown",
   "metadata": {},
   "source": [
    "# 30254 - ML for Public Policy HW3 - Nora Hajjar"
   ]
  },
  {
   "cell_type": "markdown",
   "metadata": {},
   "source": [
    "## Machine Learning Pipeline Version 2 (HW3): \n",
    "This document is an example of running the ML pipeline for one specific model, in this case a decision tree classifier. Demo shows how the functions in accompanying file pipeline.py work"
   ]
  },
  {
   "cell_type": "markdown",
   "metadata": {},
   "source": [
    "### LOAD DATA"
   ]
  },
  {
   "cell_type": "code",
   "execution_count": 361,
   "metadata": {},
   "outputs": [
    {
     "name": "stdout",
     "output_type": "stream",
     "text": [
      "The autoreload extension is already loaded. To reload it, use:\n",
      "  %reload_ext autoreload\n"
     ]
    }
   ],
   "source": [
    "#import pipeline.py file\n",
    "%load_ext autoreload\n",
    "%autoreload 2\n",
    "import pipeline_hw3 as p\n",
    "\n",
    "import matplotlib\n",
    "import pandas as pd\n",
    "import numpy as np\n",
    "from sklearn.model_selection import train_test_split\n",
    "from __future__ import division\n",
    "import pandas as pd\n",
    "import numpy as np\n",
    "from sklearn import preprocessing, cross_validation, svm, metrics, tree, decomposition, svm\n",
    "from sklearn.ensemble import RandomForestClassifier, ExtraTreesClassifier, GradientBoostingClassifier, AdaBoostClassifier\n",
    "from sklearn.linear_model import LogisticRegression, Perceptron, SGDClassifier, OrthogonalMatchingPursuit, RandomizedLogisticRegression\n",
    "from sklearn.neighbors.nearest_centroid import NearestCentroid\n",
    "from sklearn.naive_bayes import GaussianNB, MultinomialNB, BernoulliNB\n",
    "from sklearn.tree import DecisionTreeClassifier\n",
    "from sklearn.neighbors import KNeighborsClassifier\n",
    "from sklearn.cross_validation import train_test_split\n",
    "from sklearn.grid_search import ParameterGrid\n",
    "from sklearn.metrics import *\n",
    "from sklearn.preprocessing import StandardScaler\n",
    "import random\n",
    "import matplotlib.pyplot as plt\n",
    "from scipy import optimize\n",
    "import time\n",
    "import seaborn as sns\n",
    "import sklearn.tree as tree\n",
    "from sklearn.linear_model import LogisticRegression\n",
    "from sklearn.svm import LinearSVC\n",
    "from sklearn.model_selection import train_test_split\n",
    "from sklearn.metrics import accuracy_score as accuracy\n",
    "import graphviz # If you don't have this, install via pip/conda\n",
    "from sklearn.metrics import confusion_matrix\n",
    "from sklearn.metrics import precision_recall_curve\n",
    "import pandas as pd\n",
    "import numpy as np\n",
    "from sklearn import svm\n",
    "from sklearn.svm import LinearSVC\n",
    "from sklearn import preprocessing, cross_validation, svm, metrics, tree, decomposition, svm\n",
    "from sklearn.ensemble import RandomForestClassifier, ExtraTreesClassifier, GradientBoostingClassifier, AdaBoostClassifier, BaggingClassifier\n",
    "from sklearn.linear_model import LogisticRegression, Perceptron, SGDClassifier, OrthogonalMatchingPursuit, RandomizedLogisticRegression\n",
    "from sklearn.neighbors.nearest_centroid import NearestCentroid\n",
    "from sklearn.naive_bayes import GaussianNB, MultinomialNB, BernoulliNB\n",
    "from sklearn.tree import DecisionTreeClassifier\n",
    "from sklearn.neighbors import KNeighborsClassifier\n",
    "from sklearn.cross_validation import train_test_split\n",
    "from sklearn.grid_search import ParameterGrid\n",
    "from sklearn.metrics import *\n",
    "from sklearn.preprocessing import StandardScaler\n",
    "import random\n",
    "import matplotlib.pyplot as plt\n",
    "from scipy import optimize\n",
    "import time\n",
    "import seaborn as sns\n",
    "from sklearn.model_selection import train_test_split\n",
    "from sklearn.tree import DecisionTreeClassifier\n",
    "from sklearn import metrics\n",
    "from sklearn.metrics import accuracy_score\n",
    "from sklearn.metrics import confusion_matrix\n",
    "from sklearn.externals.six import StringIO  \n",
    "from IPython.display import Image  \n",
    "from sklearn.tree import export_graphviz\n",
    "import pydotplus\n",
    "from sklearn.model_selection import cross_val_score"
   ]
  },
  {
   "cell_type": "markdown",
   "metadata": {},
   "source": [
    "### EXPLORE DATA"
   ]
  },
  {
   "cell_type": "code",
   "execution_count": 17,
   "metadata": {},
   "outputs": [
    {
     "data": {
      "text/html": [
       "<div>\n",
       "<style scoped>\n",
       "    .dataframe tbody tr th:only-of-type {\n",
       "        vertical-align: middle;\n",
       "    }\n",
       "\n",
       "    .dataframe tbody tr th {\n",
       "        vertical-align: top;\n",
       "    }\n",
       "\n",
       "    .dataframe thead th {\n",
       "        text-align: right;\n",
       "    }\n",
       "</style>\n",
       "<table border=\"1\" class=\"dataframe\">\n",
       "  <thead>\n",
       "    <tr style=\"text-align: right;\">\n",
       "      <th></th>\n",
       "      <th>school_ncesid</th>\n",
       "      <th>school_latitude</th>\n",
       "      <th>school_longitude</th>\n",
       "      <th>total_price_including_optional_support</th>\n",
       "      <th>students_reached</th>\n",
       "    </tr>\n",
       "  </thead>\n",
       "  <tbody>\n",
       "    <tr>\n",
       "      <th>count</th>\n",
       "      <td>1.157430e+05</td>\n",
       "      <td>124976.000000</td>\n",
       "      <td>124976.000000</td>\n",
       "      <td>124976.000000</td>\n",
       "      <td>124917.000000</td>\n",
       "    </tr>\n",
       "    <tr>\n",
       "      <th>mean</th>\n",
       "      <td>2.448448e+11</td>\n",
       "      <td>36.827284</td>\n",
       "      <td>-95.859299</td>\n",
       "      <td>654.011811</td>\n",
       "      <td>95.445760</td>\n",
       "    </tr>\n",
       "    <tr>\n",
       "      <th>std</th>\n",
       "      <td>1.644728e+11</td>\n",
       "      <td>4.963669</td>\n",
       "      <td>18.392876</td>\n",
       "      <td>1098.015854</td>\n",
       "      <td>163.481912</td>\n",
       "    </tr>\n",
       "    <tr>\n",
       "      <th>min</th>\n",
       "      <td>1.000050e+10</td>\n",
       "      <td>18.249140</td>\n",
       "      <td>-171.690554</td>\n",
       "      <td>92.000000</td>\n",
       "      <td>1.000000</td>\n",
       "    </tr>\n",
       "    <tr>\n",
       "      <th>25%</th>\n",
       "      <td>6.344101e+10</td>\n",
       "      <td>33.872504</td>\n",
       "      <td>-117.806418</td>\n",
       "      <td>345.810000</td>\n",
       "      <td>23.000000</td>\n",
       "    </tr>\n",
       "    <tr>\n",
       "      <th>50%</th>\n",
       "      <td>2.200870e+11</td>\n",
       "      <td>36.617410</td>\n",
       "      <td>-90.101563</td>\n",
       "      <td>510.500000</td>\n",
       "      <td>30.000000</td>\n",
       "    </tr>\n",
       "    <tr>\n",
       "      <th>75%</th>\n",
       "      <td>3.704880e+11</td>\n",
       "      <td>40.676156</td>\n",
       "      <td>-80.713740</td>\n",
       "      <td>752.960000</td>\n",
       "      <td>100.000000</td>\n",
       "    </tr>\n",
       "    <tr>\n",
       "      <th>max</th>\n",
       "      <td>6.100010e+11</td>\n",
       "      <td>65.672562</td>\n",
       "      <td>-66.628036</td>\n",
       "      <td>164382.840000</td>\n",
       "      <td>12143.000000</td>\n",
       "    </tr>\n",
       "  </tbody>\n",
       "</table>\n",
       "</div>"
      ],
      "text/plain": [
       "       school_ncesid  school_latitude  school_longitude  \\\n",
       "count   1.157430e+05    124976.000000     124976.000000   \n",
       "mean    2.448448e+11        36.827284        -95.859299   \n",
       "std     1.644728e+11         4.963669         18.392876   \n",
       "min     1.000050e+10        18.249140       -171.690554   \n",
       "25%     6.344101e+10        33.872504       -117.806418   \n",
       "50%     2.200870e+11        36.617410        -90.101563   \n",
       "75%     3.704880e+11        40.676156        -80.713740   \n",
       "max     6.100010e+11        65.672562        -66.628036   \n",
       "\n",
       "       total_price_including_optional_support  students_reached  \n",
       "count                           124976.000000     124917.000000  \n",
       "mean                               654.011811         95.445760  \n",
       "std                               1098.015854        163.481912  \n",
       "min                                 92.000000          1.000000  \n",
       "25%                                345.810000         23.000000  \n",
       "50%                                510.500000         30.000000  \n",
       "75%                                752.960000        100.000000  \n",
       "max                             164382.840000      12143.000000  "
      ]
     },
     "execution_count": 17,
     "metadata": {},
     "output_type": "execute_result"
    }
   ],
   "source": [
    "p.get_sum_stats(df)"
   ]
  },
  {
   "cell_type": "code",
   "execution_count": 18,
   "metadata": {},
   "outputs": [
    {
     "data": {
      "text/plain": [
       "array([[<matplotlib.axes._subplots.AxesSubplot object at 0x1a0db1e4e0>,\n",
       "        <matplotlib.axes._subplots.AxesSubplot object at 0x1a120e1748>],\n",
       "       [<matplotlib.axes._subplots.AxesSubplot object at 0x1a0e453a58>,\n",
       "        <matplotlib.axes._subplots.AxesSubplot object at 0x1a0e470d68>],\n",
       "       [<matplotlib.axes._subplots.AxesSubplot object at 0x1a1285b0b8>,\n",
       "        <matplotlib.axes._subplots.AxesSubplot object at 0x1a1285b0f0>]],\n",
       "      dtype=object)"
      ]
     },
     "execution_count": 18,
     "metadata": {},
     "output_type": "execute_result"
    },
    {
     "data": {
      "image/png": "[encoded data removed]",
      "text/plain": [
       "<Figure size 432x288 with 6 Axes>"
      ]
     },
     "metadata": {},
     "output_type": "display_data"
    }
   ],
   "source": [
    "p.get_hist(df)"
   ]
  },
  {
   "cell_type": "code",
   "execution_count": 19,
   "metadata": {},
   "outputs": [
    {
     "data": {
      "text/plain": [
       "<matplotlib.axes._subplots.AxesSubplot at 0x1a0e9526a0>"
      ]
     },
     "execution_count": 19,
     "metadata": {},
     "output_type": "execute_result"
    },
    {
     "data": {
      "image/png": "[encoded data removed]",
      "text/plain": [
       "<Figure size 432x288 with 1 Axes>"
      ]
     },
     "metadata": {},
     "output_type": "display_data"
    }
   ],
   "source": [
    "p.get_outliers(df)"
   ]
  },
  {
   "cell_type": "markdown",
   "metadata": {},
   "source": [
    "### CLEAN DATA"
   ]
  },
  {
   "cell_type": "code",
   "execution_count": 20,
   "metadata": {
    "scrolled": true
   },
   "outputs": [
    {
     "data": {
      "text/plain": [
       "projectid                                     0\n",
       "teacher_acctid                                0\n",
       "schoolid                                      0\n",
       "school_ncesid                              9233\n",
       "school_latitude                               0\n",
       "school_longitude                              0\n",
       "school_city                                   0\n",
       "school_state                                  0\n",
       "school_metro                              15224\n",
       "school_district                             172\n",
       "school_county                                 0\n",
       "school_charter                                0\n",
       "school_magnet                                 0\n",
       "teacher_prefix                                0\n",
       "primary_focus_subject                        15\n",
       "primary_focus_area                           15\n",
       "secondary_focus_subject                   40556\n",
       "secondary_focus_area                      40556\n",
       "resource_type                                17\n",
       "poverty_level                                 0\n",
       "grade_level                                   3\n",
       "total_price_including_optional_support        0\n",
       "students_reached                             59\n",
       "eligible_double_your_impact_match             0\n",
       "date_posted                                   0\n",
       "datefullyfunded                               0\n",
       "dtype: int64"
      ]
     },
     "execution_count": 20,
     "metadata": {},
     "output_type": "execute_result"
    }
   ],
   "source": [
    "#show null counts\n",
    "null_counts = p.check_null_counts(df)\n",
    "null_counts"
   ]
  },
  {
   "cell_type": "code",
   "execution_count": 21,
   "metadata": {},
   "outputs": [
    {
     "data": {
      "text/plain": [
       "['school_ncesid',\n",
       " 'school_metro',\n",
       " 'school_district',\n",
       " 'primary_focus_subject',\n",
       " 'primary_focus_area',\n",
       " 'secondary_focus_subject',\n",
       " 'secondary_focus_area',\n",
       " 'resource_type',\n",
       " 'grade_level',\n",
       " 'students_reached']"
      ]
     },
     "execution_count": 21,
     "metadata": {},
     "output_type": "execute_result"
    }
   ],
   "source": [
    "#get null columns\n",
    "null_cols = p.get_null_cols(df, null_counts)\n",
    "null_cols"
   ]
  },
  {
   "cell_type": "code",
   "execution_count": 22,
   "metadata": {},
   "outputs": [],
   "source": [
    "#fill null cols\n",
    "p.fill_null_cols(df, ['students_reached'])"
   ]
  },
  {
   "cell_type": "code",
   "execution_count": 23,
   "metadata": {},
   "outputs": [
    {
     "data": {
      "text/plain": [
       "projectid                                     0\n",
       "teacher_acctid                                0\n",
       "schoolid                                      0\n",
       "school_ncesid                              9233\n",
       "school_latitude                               0\n",
       "school_longitude                              0\n",
       "school_city                                   0\n",
       "school_state                                  0\n",
       "school_metro                              15224\n",
       "school_district                             172\n",
       "school_county                                 0\n",
       "school_charter                                0\n",
       "school_magnet                                 0\n",
       "teacher_prefix                                0\n",
       "primary_focus_subject                        15\n",
       "primary_focus_area                           15\n",
       "secondary_focus_subject                   40556\n",
       "secondary_focus_area                      40556\n",
       "resource_type                                17\n",
       "poverty_level                                 0\n",
       "grade_level                                   3\n",
       "total_price_including_optional_support        0\n",
       "students_reached                              0\n",
       "eligible_double_your_impact_match             0\n",
       "date_posted                                   0\n",
       "datefullyfunded                               0\n",
       "dtype: int64"
      ]
     },
     "execution_count": 23,
     "metadata": {},
     "output_type": "execute_result"
    }
   ],
   "source": [
    "#nulls were successfully filled with the mean of the column\n",
    "p.check_null_counts(df)\n",
    "\n",
    "#notes on nulls pertaining to this data specifically:\n",
    "#school_ncesid: there are nulls, if needed ids, would need to do a lookup\n",
    "#school_metro: to fill this in we will need additional data - census data? Out of scope currently\n",
    "#school_district: same, need census data\n",
    "\n",
    "#drop NA values for:\n",
    "#primary_focus_subject\n",
    "#primary_focus_area\n",
    "#resource_type\n",
    "#grade_level"
   ]
  },
  {
   "cell_type": "code",
   "execution_count": 29,
   "metadata": {},
   "outputs": [],
   "source": [
    "df.dropna(subset=['primary_focus_subject', 'primary_focus_area','resource_type', 'grade_level', 'school_district'], inplace=True)"
   ]
  },
  {
   "cell_type": "code",
   "execution_count": 30,
   "metadata": {},
   "outputs": [
    {
     "data": {
      "text/plain": [
       "projectid                                     0\n",
       "teacher_acctid                                0\n",
       "schoolid                                      0\n",
       "school_ncesid                              9104\n",
       "school_latitude                               0\n",
       "school_longitude                              0\n",
       "school_city                                   0\n",
       "school_state                                  0\n",
       "school_metro                              15129\n",
       "school_district                               0\n",
       "school_county                                 0\n",
       "school_charter                                0\n",
       "school_magnet                                 0\n",
       "teacher_prefix                                0\n",
       "primary_focus_subject                         0\n",
       "primary_focus_area                            0\n",
       "secondary_focus_subject                   40459\n",
       "secondary_focus_area                      40459\n",
       "resource_type                                 0\n",
       "poverty_level                                 0\n",
       "grade_level                                   0\n",
       "total_price_including_optional_support        0\n",
       "students_reached                              0\n",
       "eligible_double_your_impact_match             0\n",
       "date_posted                                   0\n",
       "datefullyfunded                               0\n",
       "dtype: int64"
      ]
     },
     "execution_count": 30,
     "metadata": {},
     "output_type": "execute_result"
    }
   ],
   "source": [
    "p.check_null_counts(df)"
   ]
  },
  {
   "cell_type": "code",
   "execution_count": 38,
   "metadata": {},
   "outputs": [
    {
     "data": {
      "text/plain": [
       "projectid                                         object\n",
       "teacher_acctid                                    object\n",
       "schoolid                                          object\n",
       "school_ncesid                                    float64\n",
       "school_latitude                                  float64\n",
       "school_longitude                                 float64\n",
       "school_city                                       object\n",
       "school_state                                      object\n",
       "school_metro                                      object\n",
       "school_district                                   object\n",
       "school_county                                     object\n",
       "school_charter                                    object\n",
       "school_magnet                                     object\n",
       "teacher_prefix                                    object\n",
       "primary_focus_subject                             object\n",
       "primary_focus_area                                object\n",
       "secondary_focus_subject                           object\n",
       "secondary_focus_area                              object\n",
       "resource_type                                     object\n",
       "poverty_level                                     object\n",
       "grade_level                                       object\n",
       "total_price_including_optional_support           float64\n",
       "students_reached                                 float64\n",
       "eligible_double_your_impact_match                 object\n",
       "date_posted                               datetime64[ns]\n",
       "datefullyfunded                           datetime64[ns]\n",
       "dtype: object"
      ]
     },
     "execution_count": 38,
     "metadata": {},
     "output_type": "execute_result"
    }
   ],
   "source": [
    "df['date_posted'] =  pd.to_datetime(df['date_posted'])\n",
    "df['datefullyfunded'] =  pd.to_datetime(df['datefullyfunded'])\n",
    "df.dtypes"
   ]
  },
  {
   "cell_type": "code",
   "execution_count": 39,
   "metadata": {},
   "outputs": [],
   "source": [
    "df['days_to_funded'] = df.datefullyfunded - df.date_posted"
   ]
  },
  {
   "cell_type": "code",
   "execution_count": 48,
   "metadata": {},
   "outputs": [],
   "source": [
    "df['days_to_funded_num'] = df['days_to_funded'].astype('timedelta64[D]')"
   ]
  },
  {
   "cell_type": "code",
   "execution_count": 49,
   "metadata": {},
   "outputs": [
    {
     "data": {
      "text/html": [
       "<div>\n",
       "<style scoped>\n",
       "    .dataframe tbody tr th:only-of-type {\n",
       "        vertical-align: middle;\n",
       "    }\n",
       "\n",
       "    .dataframe tbody tr th {\n",
       "        vertical-align: top;\n",
       "    }\n",
       "\n",
       "    .dataframe thead th {\n",
       "        text-align: right;\n",
       "    }\n",
       "</style>\n",
       "<table border=\"1\" class=\"dataframe\">\n",
       "  <thead>\n",
       "    <tr style=\"text-align: right;\">\n",
       "      <th></th>\n",
       "      <th>projectid</th>\n",
       "      <th>teacher_acctid</th>\n",
       "      <th>schoolid</th>\n",
       "      <th>school_ncesid</th>\n",
       "      <th>school_latitude</th>\n",
       "      <th>school_longitude</th>\n",
       "      <th>school_city</th>\n",
       "      <th>school_state</th>\n",
       "      <th>school_metro</th>\n",
       "      <th>school_district</th>\n",
       "      <th>...</th>\n",
       "      <th>resource_type</th>\n",
       "      <th>poverty_level</th>\n",
       "      <th>grade_level</th>\n",
       "      <th>total_price_including_optional_support</th>\n",
       "      <th>students_reached</th>\n",
       "      <th>eligible_double_your_impact_match</th>\n",
       "      <th>date_posted</th>\n",
       "      <th>datefullyfunded</th>\n",
       "      <th>days_to_funded</th>\n",
       "      <th>days_to_funded_num</th>\n",
       "    </tr>\n",
       "  </thead>\n",
       "  <tbody>\n",
       "    <tr>\n",
       "      <th>0</th>\n",
       "      <td>00001ccc0e81598c4bd86bacb94d7acb</td>\n",
       "      <td>96963218e74e10c3764a5cfb153e6fea</td>\n",
       "      <td>9f3f9f2c2da7edda5648ccd10554ed8c</td>\n",
       "      <td>1.709930e+11</td>\n",
       "      <td>41.807654</td>\n",
       "      <td>-87.673257</td>\n",
       "      <td>Chicago</td>\n",
       "      <td>IL</td>\n",
       "      <td>urban</td>\n",
       "      <td>Pershing Elem Network</td>\n",
       "      <td>...</td>\n",
       "      <td>Supplies</td>\n",
       "      <td>highest poverty</td>\n",
       "      <td>Grades PreK-2</td>\n",
       "      <td>1498.61</td>\n",
       "      <td>31.0</td>\n",
       "      <td>f</td>\n",
       "      <td>2013-04-14</td>\n",
       "      <td>2013-05-02</td>\n",
       "      <td>18 days</td>\n",
       "      <td>18.0</td>\n",
       "    </tr>\n",
       "    <tr>\n",
       "      <th>1</th>\n",
       "      <td>0000fa3aa8f6649abab23615b546016d</td>\n",
       "      <td>2a578595fe351e7fce057e048c409b18</td>\n",
       "      <td>3432ed3d4466fac2f2ead83ab354e333</td>\n",
       "      <td>6.409801e+10</td>\n",
       "      <td>34.296596</td>\n",
       "      <td>-119.296596</td>\n",
       "      <td>Ventura</td>\n",
       "      <td>CA</td>\n",
       "      <td>urban</td>\n",
       "      <td>Ventura Unif School District</td>\n",
       "      <td>...</td>\n",
       "      <td>Books</td>\n",
       "      <td>highest poverty</td>\n",
       "      <td>Grades 3-5</td>\n",
       "      <td>282.47</td>\n",
       "      <td>28.0</td>\n",
       "      <td>t</td>\n",
       "      <td>2012-04-07</td>\n",
       "      <td>2012-04-18</td>\n",
       "      <td>11 days</td>\n",
       "      <td>11.0</td>\n",
       "    </tr>\n",
       "    <tr>\n",
       "      <th>2</th>\n",
       "      <td>000134f07d4b30140d63262c871748ff</td>\n",
       "      <td>26bd60377bdbffb53a644a16c5308e82</td>\n",
       "      <td>dc8dcb501c3b2bb0b10e9c6ee2cd8afd</td>\n",
       "      <td>6.227100e+10</td>\n",
       "      <td>34.078625</td>\n",
       "      <td>-118.257834</td>\n",
       "      <td>Los Angeles</td>\n",
       "      <td>CA</td>\n",
       "      <td>urban</td>\n",
       "      <td>Los Angeles Unif Sch Dist</td>\n",
       "      <td>...</td>\n",
       "      <td>Technology</td>\n",
       "      <td>high poverty</td>\n",
       "      <td>Grades 3-5</td>\n",
       "      <td>1012.38</td>\n",
       "      <td>56.0</td>\n",
       "      <td>f</td>\n",
       "      <td>2012-01-30</td>\n",
       "      <td>2012-04-15</td>\n",
       "      <td>76 days</td>\n",
       "      <td>76.0</td>\n",
       "    </tr>\n",
       "    <tr>\n",
       "      <th>3</th>\n",
       "      <td>0001f2d0b3827bba67cdbeaa248b832d</td>\n",
       "      <td>15d900805d9d716c051c671827109f45</td>\n",
       "      <td>8bea7e8c6e4279fca6276128db89292e</td>\n",
       "      <td>3.600090e+11</td>\n",
       "      <td>40.687286</td>\n",
       "      <td>-73.988217</td>\n",
       "      <td>Brooklyn</td>\n",
       "      <td>NY</td>\n",
       "      <td>urban</td>\n",
       "      <td>New York City Dept Of Ed</td>\n",
       "      <td>...</td>\n",
       "      <td>Books</td>\n",
       "      <td>high poverty</td>\n",
       "      <td>Grades PreK-2</td>\n",
       "      <td>175.33</td>\n",
       "      <td>23.0</td>\n",
       "      <td>f</td>\n",
       "      <td>2012-10-11</td>\n",
       "      <td>2012-12-05</td>\n",
       "      <td>55 days</td>\n",
       "      <td>55.0</td>\n",
       "    </tr>\n",
       "    <tr>\n",
       "      <th>4</th>\n",
       "      <td>0004536db996ba697ca72c9e058bfe69</td>\n",
       "      <td>400f8b82bb0143f6a40b217a517fe311</td>\n",
       "      <td>fbdefab6fe41e12c55886c610c110753</td>\n",
       "      <td>3.606870e+11</td>\n",
       "      <td>40.793018</td>\n",
       "      <td>-73.205635</td>\n",
       "      <td>Central Islip</td>\n",
       "      <td>NY</td>\n",
       "      <td>suburban</td>\n",
       "      <td>Central Islip Union Free SD</td>\n",
       "      <td>...</td>\n",
       "      <td>Technology</td>\n",
       "      <td>high poverty</td>\n",
       "      <td>Grades PreK-2</td>\n",
       "      <td>3591.11</td>\n",
       "      <td>150.0</td>\n",
       "      <td>f</td>\n",
       "      <td>2013-01-08</td>\n",
       "      <td>2013-03-25</td>\n",
       "      <td>76 days</td>\n",
       "      <td>76.0</td>\n",
       "    </tr>\n",
       "  </tbody>\n",
       "</table>\n",
       "<p>5 rows × 28 columns</p>\n",
       "</div>"
      ],
      "text/plain": [
       "                          projectid                    teacher_acctid  \\\n",
       "0  00001ccc0e81598c4bd86bacb94d7acb  96963218e74e10c3764a5cfb153e6fea   \n",
       "1  0000fa3aa8f6649abab23615b546016d  2a578595fe351e7fce057e048c409b18   \n",
       "2  000134f07d4b30140d63262c871748ff  26bd60377bdbffb53a644a16c5308e82   \n",
       "3  0001f2d0b3827bba67cdbeaa248b832d  15d900805d9d716c051c671827109f45   \n",
       "4  0004536db996ba697ca72c9e058bfe69  400f8b82bb0143f6a40b217a517fe311   \n",
       "\n",
       "                           schoolid  school_ncesid  school_latitude  \\\n",
       "0  9f3f9f2c2da7edda5648ccd10554ed8c   1.709930e+11        41.807654   \n",
       "1  3432ed3d4466fac2f2ead83ab354e333   6.409801e+10        34.296596   \n",
       "2  dc8dcb501c3b2bb0b10e9c6ee2cd8afd   6.227100e+10        34.078625   \n",
       "3  8bea7e8c6e4279fca6276128db89292e   3.600090e+11        40.687286   \n",
       "4  fbdefab6fe41e12c55886c610c110753   3.606870e+11        40.793018   \n",
       "\n",
       "   school_longitude    school_city school_state school_metro  \\\n",
       "0        -87.673257        Chicago           IL        urban   \n",
       "1       -119.296596        Ventura           CA        urban   \n",
       "2       -118.257834    Los Angeles           CA        urban   \n",
       "3        -73.988217       Brooklyn           NY        urban   \n",
       "4        -73.205635  Central Islip           NY     suburban   \n",
       "\n",
       "                school_district        ...         resource_type  \\\n",
       "0         Pershing Elem Network        ...              Supplies   \n",
       "1  Ventura Unif School District        ...                 Books   \n",
       "2     Los Angeles Unif Sch Dist        ...            Technology   \n",
       "3      New York City Dept Of Ed        ...                 Books   \n",
       "4   Central Islip Union Free SD        ...            Technology   \n",
       "\n",
       "     poverty_level    grade_level total_price_including_optional_support  \\\n",
       "0  highest poverty  Grades PreK-2                                1498.61   \n",
       "1  highest poverty     Grades 3-5                                 282.47   \n",
       "2     high poverty     Grades 3-5                                1012.38   \n",
       "3     high poverty  Grades PreK-2                                 175.33   \n",
       "4     high poverty  Grades PreK-2                                3591.11   \n",
       "\n",
       "  students_reached eligible_double_your_impact_match date_posted  \\\n",
       "0             31.0                                 f  2013-04-14   \n",
       "1             28.0                                 t  2012-04-07   \n",
       "2             56.0                                 f  2012-01-30   \n",
       "3             23.0                                 f  2012-10-11   \n",
       "4            150.0                                 f  2013-01-08   \n",
       "\n",
       "  datefullyfunded days_to_funded days_to_funded_num  \n",
       "0      2013-05-02        18 days               18.0  \n",
       "1      2012-04-18        11 days               11.0  \n",
       "2      2012-04-15        76 days               76.0  \n",
       "3      2012-12-05        55 days               55.0  \n",
       "4      2013-03-25        76 days               76.0  \n",
       "\n",
       "[5 rows x 28 columns]"
      ]
     },
     "execution_count": 49,
     "metadata": {},
     "output_type": "execute_result"
    }
   ],
   "source": [
    "df.head()"
   ]
  },
  {
   "cell_type": "code",
   "execution_count": 50,
   "metadata": {},
   "outputs": [],
   "source": [
    "df['not_fully_funded_60'] = df['days_to_funded_num'] > 60.0"
   ]
  },
  {
   "cell_type": "code",
   "execution_count": 54,
   "metadata": {},
   "outputs": [],
   "source": [
    "df['not_fully_funded_60_binary'] = df['not_fully_funded_60'] * 1"
   ]
  },
  {
   "cell_type": "code",
   "execution_count": 62,
   "metadata": {},
   "outputs": [],
   "source": [
    "df['eligible_double_your_impact_match_binary'] = df['eligible_double_your_impact_match'].map({'f':0, 't':1})"
   ]
  },
  {
   "cell_type": "code",
   "execution_count": 83,
   "metadata": {},
   "outputs": [],
   "source": [
    "df['school_charter_binary'] = df['school_charter'].map({'f':0, 't':1})"
   ]
  },
  {
   "cell_type": "code",
   "execution_count": 84,
   "metadata": {},
   "outputs": [],
   "source": [
    "df['school_magnet_binary'] = df['school_magnet'].map({'f':0, 't':1})"
   ]
  },
  {
   "cell_type": "code",
   "execution_count": 64,
   "metadata": {},
   "outputs": [],
   "source": [
    "df['school_state_num'] = df.school_state.astype('category').cat.codes"
   ]
  },
  {
   "cell_type": "code",
   "execution_count": 86,
   "metadata": {},
   "outputs": [],
   "source": [
    "df['school_city_num'] = df.school_city.astype('category').cat.codes"
   ]
  },
  {
   "cell_type": "code",
   "execution_count": 87,
   "metadata": {},
   "outputs": [],
   "source": [
    "df['school_district_num'] = df.school_district.astype('category').cat.codes"
   ]
  },
  {
   "cell_type": "code",
   "execution_count": 88,
   "metadata": {},
   "outputs": [],
   "source": [
    "df['school_county_num'] = df.school_county.astype('category').cat.codes"
   ]
  },
  {
   "cell_type": "code",
   "execution_count": 89,
   "metadata": {},
   "outputs": [],
   "source": [
    "df['teacher_prefix_num'] = df.teacher_prefix.astype('category').cat.codes"
   ]
  },
  {
   "cell_type": "code",
   "execution_count": 90,
   "metadata": {},
   "outputs": [],
   "source": [
    "df['primary_focus_subject_num'] = df.primary_focus_subject.astype('category').cat.codes"
   ]
  },
  {
   "cell_type": "code",
   "execution_count": 91,
   "metadata": {},
   "outputs": [],
   "source": [
    "df['primary_focus_area_num'] = df.primary_focus_area.astype('category').cat.codes"
   ]
  },
  {
   "cell_type": "code",
   "execution_count": 97,
   "metadata": {},
   "outputs": [],
   "source": [
    "df['resource_type_num'] = df.resource_type.astype('category').cat.codes"
   ]
  },
  {
   "cell_type": "code",
   "execution_count": 98,
   "metadata": {},
   "outputs": [],
   "source": [
    "df['poverty_level_num'] = df.poverty_level.astype('category').cat.codes"
   ]
  },
  {
   "cell_type": "code",
   "execution_count": 99,
   "metadata": {},
   "outputs": [],
   "source": [
    "df['grade_level_num'] = df.grade_level.astype('category').cat.codes"
   ]
  },
  {
   "cell_type": "code",
   "execution_count": 104,
   "metadata": {},
   "outputs": [
    {
     "data": {
      "text/plain": [
       "Index(['projectid', 'teacher_acctid', 'schoolid', 'school_ncesid',\n",
       "       'school_latitude', 'school_longitude', 'school_city', 'school_state',\n",
       "       'school_metro', 'school_district', 'school_county', 'school_charter',\n",
       "       'school_magnet', 'teacher_prefix', 'primary_focus_subject',\n",
       "       'primary_focus_area', 'secondary_focus_subject', 'secondary_focus_area',\n",
       "       'resource_type', 'poverty_level', 'grade_level',\n",
       "       'total_price_including_optional_support', 'students_reached',\n",
       "       'eligible_double_your_impact_match', 'date_posted', 'datefullyfunded',\n",
       "       'days_to_funded', 'days_to_funded_num', 'not_fully_funded_60',\n",
       "       'not_fully_funded_60_bin', 'not_fully_funded_60_binary',\n",
       "       'eligible_double_your_impact_match_binary', 'school_state_num',\n",
       "       'school_city_num', 'school_district_num', 'school_county_num',\n",
       "       'school_charter_binary', 'school_magnet_binary', 'teacher_prefix_num',\n",
       "       'primary_focus_subject_num', 'primary_focus_area_num',\n",
       "       'resource_type_num', 'poverty_level_num', 'grade_level_num'],\n",
       "      dtype='object')"
      ]
     },
     "execution_count": 104,
     "metadata": {},
     "output_type": "execute_result"
    }
   ],
   "source": [
    "df.columns"
   ]
  },
  {
   "cell_type": "code",
   "execution_count": 116,
   "metadata": {},
   "outputs": [],
   "source": [
    "dep_var = 'not_fully_funded_60_binary'\n",
    "\n",
    "pred_vars = ['total_price_including_optional_support', \n",
    "        'students_reached',\n",
    "       'eligible_double_your_impact_match_binary', \n",
    "       'school_state_num',\n",
    "       'school_city_num', \n",
    "       'school_district_num', \n",
    "       'school_county_num',\n",
    "       'school_charter_binary', \n",
    "       'school_magnet_binary', \n",
    "       'teacher_prefix_num',\n",
    "       'primary_focus_subject_num', \n",
    "       'primary_focus_area_num',\n",
    "       'resource_type_num', \n",
    "       'poverty_level_num', \n",
    "       'grade_level_num']"
   ]
  },
  {
   "cell_type": "code",
   "execution_count": 117,
   "metadata": {},
   "outputs": [],
   "source": [
    "#now, lets create a simplified table just with above columns that we want\n",
    "\n",
    "df_full = df[['date_posted', 'not_fully_funded_60_binary', 'total_price_including_optional_support', \n",
    "        'students_reached',\n",
    "       'eligible_double_your_impact_match_binary', \n",
    "       'school_state_num',\n",
    "       'school_city_num', \n",
    "       'school_district_num', \n",
    "       'school_county_num',\n",
    "       'school_charter_binary', \n",
    "       'school_magnet_binary', \n",
    "       'teacher_prefix_num',\n",
    "       'primary_focus_subject_num', \n",
    "       'primary_focus_area_num',\n",
    "       'resource_type_num', \n",
    "       'poverty_level_num', \n",
    "       'grade_level_num']].copy()"
   ]
  },
  {
   "cell_type": "code",
   "execution_count": 118,
   "metadata": {},
   "outputs": [
    {
     "data": {
      "text/html": [
       "<div>\n",
       "<style scoped>\n",
       "    .dataframe tbody tr th:only-of-type {\n",
       "        vertical-align: middle;\n",
       "    }\n",
       "\n",
       "    .dataframe tbody tr th {\n",
       "        vertical-align: top;\n",
       "    }\n",
       "\n",
       "    .dataframe thead th {\n",
       "        text-align: right;\n",
       "    }\n",
       "</style>\n",
       "<table border=\"1\" class=\"dataframe\">\n",
       "  <thead>\n",
       "    <tr style=\"text-align: right;\">\n",
       "      <th></th>\n",
       "      <th>date_posted</th>\n",
       "      <th>not_fully_funded_60_binary</th>\n",
       "      <th>total_price_including_optional_support</th>\n",
       "      <th>students_reached</th>\n",
       "      <th>eligible_double_your_impact_match_binary</th>\n",
       "      <th>school_state_num</th>\n",
       "      <th>school_city_num</th>\n",
       "      <th>school_district_num</th>\n",
       "      <th>school_county_num</th>\n",
       "      <th>school_charter_binary</th>\n",
       "      <th>school_magnet_binary</th>\n",
       "      <th>teacher_prefix_num</th>\n",
       "      <th>primary_focus_subject_num</th>\n",
       "      <th>primary_focus_area_num</th>\n",
       "      <th>resource_type_num</th>\n",
       "      <th>poverty_level_num</th>\n",
       "      <th>grade_level_num</th>\n",
       "    </tr>\n",
       "  </thead>\n",
       "  <tbody>\n",
       "    <tr>\n",
       "      <th>0</th>\n",
       "      <td>2013-04-14</td>\n",
       "      <td>0</td>\n",
       "      <td>1498.61</td>\n",
       "      <td>31.0</td>\n",
       "      <td>0</td>\n",
       "      <td>14</td>\n",
       "      <td>921</td>\n",
       "      <td>4089</td>\n",
       "      <td>309</td>\n",
       "      <td>0</td>\n",
       "      <td>0</td>\n",
       "      <td>2</td>\n",
       "      <td>17</td>\n",
       "      <td>4</td>\n",
       "      <td>2</td>\n",
       "      <td>1</td>\n",
       "      <td>3</td>\n",
       "    </tr>\n",
       "    <tr>\n",
       "      <th>1</th>\n",
       "      <td>2012-04-07</td>\n",
       "      <td>0</td>\n",
       "      <td>282.47</td>\n",
       "      <td>28.0</td>\n",
       "      <td>1</td>\n",
       "      <td>4</td>\n",
       "      <td>5460</td>\n",
       "      <td>5484</td>\n",
       "      <td>1356</td>\n",
       "      <td>0</td>\n",
       "      <td>0</td>\n",
       "      <td>2</td>\n",
       "      <td>2</td>\n",
       "      <td>2</td>\n",
       "      <td>0</td>\n",
       "      <td>1</td>\n",
       "      <td>0</td>\n",
       "    </tr>\n",
       "    <tr>\n",
       "      <th>2</th>\n",
       "      <td>2012-01-30</td>\n",
       "      <td>1</td>\n",
       "      <td>1012.38</td>\n",
       "      <td>56.0</td>\n",
       "      <td>0</td>\n",
       "      <td>4</td>\n",
       "      <td>3025</td>\n",
       "      <td>2986</td>\n",
       "      <td>774</td>\n",
       "      <td>0</td>\n",
       "      <td>0</td>\n",
       "      <td>3</td>\n",
       "      <td>15</td>\n",
       "      <td>3</td>\n",
       "      <td>3</td>\n",
       "      <td>0</td>\n",
       "      <td>0</td>\n",
       "    </tr>\n",
       "    <tr>\n",
       "      <th>3</th>\n",
       "      <td>2012-10-11</td>\n",
       "      <td>0</td>\n",
       "      <td>175.33</td>\n",
       "      <td>23.0</td>\n",
       "      <td>0</td>\n",
       "      <td>34</td>\n",
       "      <td>612</td>\n",
       "      <td>3633</td>\n",
       "      <td>697</td>\n",
       "      <td>0</td>\n",
       "      <td>1</td>\n",
       "      <td>3</td>\n",
       "      <td>15</td>\n",
       "      <td>3</td>\n",
       "      <td>0</td>\n",
       "      <td>0</td>\n",
       "      <td>3</td>\n",
       "    </tr>\n",
       "    <tr>\n",
       "      <th>4</th>\n",
       "      <td>2013-01-08</td>\n",
       "      <td>1</td>\n",
       "      <td>3591.11</td>\n",
       "      <td>150.0</td>\n",
       "      <td>0</td>\n",
       "      <td>34</td>\n",
       "      <td>855</td>\n",
       "      <td>873</td>\n",
       "      <td>1264</td>\n",
       "      <td>0</td>\n",
       "      <td>0</td>\n",
       "      <td>2</td>\n",
       "      <td>15</td>\n",
       "      <td>3</td>\n",
       "      <td>3</td>\n",
       "      <td>0</td>\n",
       "      <td>3</td>\n",
       "    </tr>\n",
       "  </tbody>\n",
       "</table>\n",
       "</div>"
      ],
      "text/plain": [
       "  date_posted  not_fully_funded_60_binary  \\\n",
       "0  2013-04-14                           0   \n",
       "1  2012-04-07                           0   \n",
       "2  2012-01-30                           1   \n",
       "3  2012-10-11                           0   \n",
       "4  2013-01-08                           1   \n",
       "\n",
       "   total_price_including_optional_support  students_reached  \\\n",
       "0                                 1498.61              31.0   \n",
       "1                                  282.47              28.0   \n",
       "2                                 1012.38              56.0   \n",
       "3                                  175.33              23.0   \n",
       "4                                 3591.11             150.0   \n",
       "\n",
       "   eligible_double_your_impact_match_binary  school_state_num  \\\n",
       "0                                         0                14   \n",
       "1                                         1                 4   \n",
       "2                                         0                 4   \n",
       "3                                         0                34   \n",
       "4                                         0                34   \n",
       "\n",
       "   school_city_num  school_district_num  school_county_num  \\\n",
       "0              921                 4089                309   \n",
       "1             5460                 5484               1356   \n",
       "2             3025                 2986                774   \n",
       "3              612                 3633                697   \n",
       "4              855                  873               1264   \n",
       "\n",
       "   school_charter_binary  school_magnet_binary  teacher_prefix_num  \\\n",
       "0                      0                     0                   2   \n",
       "1                      0                     0                   2   \n",
       "2                      0                     0                   3   \n",
       "3                      0                     1                   3   \n",
       "4                      0                     0                   2   \n",
       "\n",
       "   primary_focus_subject_num  primary_focus_area_num  resource_type_num  \\\n",
       "0                         17                       4                  2   \n",
       "1                          2                       2                  0   \n",
       "2                         15                       3                  3   \n",
       "3                         15                       3                  0   \n",
       "4                         15                       3                  3   \n",
       "\n",
       "   poverty_level_num  grade_level_num  \n",
       "0                  1                3  \n",
       "1                  1                0  \n",
       "2                  0                0  \n",
       "3                  0                3  \n",
       "4                  0                3  "
      ]
     },
     "execution_count": 118,
     "metadata": {},
     "output_type": "execute_result"
    }
   ],
   "source": [
    "df_full.head()"
   ]
  },
  {
   "cell_type": "markdown",
   "metadata": {},
   "source": [
    "### CREATE TEMPORAL VALIDATION TEST/TRAIN SPLITS"
   ]
  },
  {
   "cell_type": "code",
   "execution_count": 260,
   "metadata": {},
   "outputs": [],
   "source": [
    "#abstract further if have time/in the future\n",
    "#training data\n",
    "train_1 = p.temp_val_train(df_full, 'date_posted', '2012-07-01')\n",
    "train_2 = p.temp_val_train(df_full, 'date_posted', '2013-01-01')\n",
    "train_3 = p.temp_val_train(df_full, 'date_posted', '2013-07-01')\n",
    "\n",
    "#test data\n",
    "test_1 = p.temp_val_test(df_full, 'date_posted', '2012-07-01', '2012-12-31')\n",
    "test_2 = p.temp_val_test(df_full, 'date_posted', '2013-01-01', '2013-06-30')\n",
    "test_3 = p.temp_val_test(df_full, 'date_posted', '2013-07-01', '2013-12-31')\n",
    "\n",
    "#train test splits\n",
    "X_train_1, X_test_1, y_train_1, y_test_1 = p.extract_train_test(train_1, test_1, dep_var, pred_vars)\n",
    "X_train_2, X_test_2, y_train_2, y_test_2 = p.extract_train_test(train_2, test_2, dep_var, pred_vars)\n",
    "X_train_3, X_test_3, y_train_3, y_test_3 = p.extract_train_test(train_3, test_3, dep_var, pred_vars)"
   ]
  },
  {
   "cell_type": "markdown",
   "metadata": {},
   "source": [
    "### RUN THE MODELS, OUTPUT RESULTS"
   ]
  },
  {
   "cell_type": "code",
   "execution_count": null,
   "metadata": {},
   "outputs": [],
   "source": [
    "results_df = p.run_models({'knn': KNeighborsClassifier(), \n",
    "                         'random_forest': RandomForestClassifier(),\n",
    "                         'decision_tree': DecisionTreeClassifier(),\n",
    "                         'logistic_regression': LogisticRegression(),\n",
    "                         'knn': KNeighborsClassifier(),\n",
    "                         'random_forest': RandomForestClassifier(),\n",
    "                         'boosting': AdaBoostClassifier(),\n",
    "                         'bagging': BaggingClassifier()}, \n",
    "                        {'period_1':(X_train_1, X_test_1, y_train_1, y_test_1), \n",
    "                                                           'period_2':(X_train_2, X_test_2, y_train_2, y_test_2), \n",
    "                                                           'period_3':(X_train_3, X_test_3, y_train_3, y_test_3)}, \n",
    "                        [0.01, 0.02, 0.05, 0.10, 0.20, 0.30, 0.50])"
   ]
  },
  {
   "cell_type": "code",
   "execution_count": null,
   "metadata": {},
   "outputs": [],
   "source": [
    "results_df"
   ]
  },
  {
   "cell_type": "code",
   "execution_count": null,
   "metadata": {},
   "outputs": [],
   "source": []
  },
  {
   "cell_type": "code",
   "execution_count": null,
   "metadata": {},
   "outputs": [],
   "source": []
  },
  {
   "cell_type": "markdown",
   "metadata": {},
   "source": [
    "### EXPERIMENT WITH DIFFERENT PARAMETERS FOR THESE CLASSIFIERS"
   ]
  },
  {
   "cell_type": "code",
   "execution_count": null,
   "metadata": {},
   "outputs": [],
   "source": [
    "#1) Experiment with different parameters for these classifiers \n",
    "#(different values of k for example, as well as parameters that other classifiers have). \n",
    "#You should look at the sklearn documentation to see what parameter each classifier \n",
    "#can take and what the default values sklearn selects. The labs should be helpful here."
   ]
  },
  {
   "cell_type": "markdown",
   "metadata": {},
   "source": [
    "### ADD ADDITIONAL EVALUATION METRICS TO THE PIPELINE"
   ]
  },
  {
   "cell_type": "code",
   "execution_count": null,
   "metadata": {},
   "outputs": [],
   "source": [
    "#Add additional evaluation metrics that we've covered in class to the pipeline (accuracy, precision at \n",
    "#different levels, recall at different levels, F1, area under curve, and precision-recall curves)."
   ]
  },
  {
   "cell_type": "code",
   "execution_count": null,
   "metadata": {},
   "outputs": [],
   "source": [
    "#see results_df for accuracy, precision at different levels, recall at different levels, F1, area under curve"
   ]
  },
  {
   "cell_type": "code",
   "execution_count": null,
   "metadata": {},
   "outputs": [],
   "source": [
    "#precision-recall curves\n"
   ]
  },
  {
   "cell_type": "code",
   "execution_count": null,
   "metadata": {},
   "outputs": [],
   "source": []
  },
  {
   "cell_type": "code",
   "execution_count": null,
   "metadata": {},
   "outputs": [],
   "source": []
  },
  {
   "cell_type": "code",
   "execution_count": null,
   "metadata": {},
   "outputs": [],
   "source": []
  }
 ],
 "metadata": {
  "kernelspec": {
   "display_name": "Python 3",
   "language": "python",
   "name": "python3"
  },
  "language_info": {
   "codemirror_mode": {
    "name": "ipython",
    "version": 3
   },
   "file_extension": ".py",
   "mimetype": "text/x-python",
   "name": "python",
   "nbconvert_exporter": "python",
   "pygments_lexer": "ipython3",
   "version": "3.6.5"
  }
 },
 "nbformat": 4,
 "nbformat_minor": 2
}
